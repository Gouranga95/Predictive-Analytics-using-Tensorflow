{
  "nbformat": 4,
  "nbformat_minor": 0,
  "metadata": {
    "colab": {
      "name": "Titanic_Data_Modelling_Using_Tensorflow.ipynb",
      "version": "0.3.2",
      "provenance": []
    },
    "kernelspec": {
      "name": "python3",
      "display_name": "Python 3"
    }
  },
  "cells": [
    {
      "cell_type": "markdown",
      "metadata": {
        "id": "jdkYwSvl8RG7",
        "colab_type": "text"
      },
      "source": [
        "This is a tutorial to build machine learning models on Titanic dataset using tensorflow."
      ]
    },
    {
      "cell_type": "code",
      "metadata": {
        "id": "BV9wcqrD77Vy",
        "colab_type": "code",
        "colab": {
          "base_uri": "https://localhost:8080/",
          "height": 34
        },
        "outputId": "5432e820-f663-4329-ed7d-e4198a543823"
      },
      "source": [
        "try:\n",
        "  # %tensorflow_version only exists in Colab.\n",
        "  %tensorflow_version 2.x\n",
        "except Exception:\n",
        "  pass"
      ],
      "execution_count": 1,
      "outputs": [
        {
          "output_type": "stream",
          "text": [
            "TensorFlow 2.x selected.\n"
          ],
          "name": "stdout"
        }
      ]
    },
    {
      "cell_type": "markdown",
      "metadata": {
        "id": "7mq5F1es8nU-",
        "colab_type": "text"
      },
      "source": [
        "Import esential libraries."
      ]
    },
    {
      "cell_type": "code",
      "metadata": {
        "id": "ISx2kXWA8lf-",
        "colab_type": "code",
        "colab": {}
      },
      "source": [
        "from __future__ import absolute_import, division, print_function, unicode_literals\n",
        "import functools\n",
        "import numpy as np\n",
        "import tensorflow as tf"
      ],
      "execution_count": 0,
      "outputs": []
    },
    {
      "cell_type": "markdown",
      "metadata": {
        "id": "2AJrv9oh8_xg",
        "colab_type": "text"
      },
      "source": [
        ""
      ]
    },
    {
      "cell_type": "code",
      "metadata": {
        "id": "KCbA3jz58-eU",
        "colab_type": "code",
        "colab": {
          "base_uri": "https://localhost:8080/",
          "height": 84
        },
        "outputId": "aea9da6c-2d4e-4d2a-82eb-23b8de6aee40"
      },
      "source": [
        "train_data_url = \"https://storage.googleapis.com/tf-datasets/titanic/train.csv\"\n",
        "test_data_url = \"https://storage.googleapis.com/tf-datasets/titanic/eval.csv\"\n",
        "train_file_path = tf.keras.utils.get_file(\"train.csv\",train_data_url)\n",
        "test_file_path = tf.keras.utils.get_file(\"eval.csv\", train_data_url)"
      ],
      "execution_count": 3,
      "outputs": [
        {
          "output_type": "stream",
          "text": [
            "Downloading data from https://storage.googleapis.com/tf-datasets/titanic/train.csv\n",
            "32768/30874 [===============================] - 0s 0us/step\n",
            "Downloading data from https://storage.googleapis.com/tf-datasets/titanic/train.csv\n",
            "32768/30874 [===============================] - 0s 0us/step\n"
          ],
          "name": "stdout"
        }
      ]
    },
    {
      "cell_type": "code",
      "metadata": {
        "id": "16jcj5kq9ssC",
        "colab_type": "code",
        "colab": {}
      },
      "source": [
        "# Make numpy values easier to read.\n",
        "np.set_printoptions(precision=3, suppress=True)"
      ],
      "execution_count": 0,
      "outputs": []
    }
  ]
}